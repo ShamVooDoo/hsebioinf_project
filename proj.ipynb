{
 "cells": [
  {
   "cell_type": "code",
   "execution_count": 4,
   "metadata": {},
   "outputs": [
    {
     "name": "stdout",
     "output_type": "stream",
     "text": [
      "Note: you may need to restart the kernel to use updated packages.\n"
     ]
    },
    {
     "name": "stderr",
     "output_type": "stream",
     "text": [
      "WARNING: You are using pip version 21.2.3; however, version 23.1.2 is available.\n",
      "You should consider upgrading via the 'c:\\Users\\fessk\\AppData\\Local\\Programs\\Python\\Python39\\python.exe -m pip install --upgrade pip' command.\n"
     ]
    },
    {
     "name": "stdout",
     "output_type": "stream",
     "text": [
      "Collecting pandas\n",
      "  Downloading pandas-2.0.2-cp39-cp39-win_amd64.whl (10.7 MB)\n",
      "Requirement already satisfied: python-dateutil>=2.8.2 in c:\\users\\fessk\\appdata\\roaming\\python\\python39\\site-packages (from pandas) (2.8.2)\n",
      "Collecting tzdata>=2022.1\n",
      "  Downloading tzdata-2023.3-py2.py3-none-any.whl (341 kB)\n",
      "Collecting pytz>=2020.1\n",
      "  Downloading pytz-2023.3-py2.py3-none-any.whl (502 kB)\n",
      "Requirement already satisfied: numpy>=1.20.3 in c:\\users\\fessk\\appdata\\local\\programs\\python\\python39\\lib\\site-packages (from pandas) (1.24.3)\n",
      "Requirement already satisfied: six>=1.5 in c:\\users\\fessk\\appdata\\roaming\\python\\python39\\site-packages (from python-dateutil>=2.8.2->pandas) (1.16.0)\n",
      "Installing collected packages: tzdata, pytz, pandas\n",
      "Successfully installed pandas-2.0.2 pytz-2023.3 tzdata-2023.3\n"
     ]
    }
   ],
   "source": [
    "pip install pandas"
   ]
  },
  {
   "cell_type": "code",
   "execution_count": 5,
   "metadata": {},
   "outputs": [
    {
     "name": "stdout",
     "output_type": "stream",
     "text": [
      "Requirement already satisfied: numpy in c:\\users\\fessk\\appdata\\local\\programs\\python\\python39\\lib\\site-packages (1.24.3)\n",
      "Note: you may need to restart the kernel to use updated packages.\n"
     ]
    },
    {
     "name": "stderr",
     "output_type": "stream",
     "text": [
      "WARNING: You are using pip version 21.2.3; however, version 23.1.2 is available.\n",
      "You should consider upgrading via the 'c:\\Users\\fessk\\AppData\\Local\\Programs\\Python\\Python39\\python.exe -m pip install --upgrade pip' command.\n"
     ]
    }
   ],
   "source": [
    "pip install numpy"
   ]
  },
  {
   "cell_type": "code",
   "execution_count": 9,
   "metadata": {},
   "outputs": [],
   "source": [
    "import pandas as pd\n",
    "import numpy as np"
   ]
  },
  {
   "cell_type": "code",
   "execution_count": 11,
   "metadata": {},
   "outputs": [],
   "source": [
    "proteomes = \"c.elegans ciliate drosophila e.coli human methanocaldococcus mouse thermococcus tuberculosis yeast zebrafish\".split()\n",
    "proteins = \"H2A H2B H3 H4 CREBBP\".split()\n",
    "\n",
    "log_data = dict()\n",
    "data = dict()\n",
    "\n",
    "for proteome in proteomes:\n",
    "    log_data[proteome] = dict()\n",
    "    for protein in proteins:\n",
    "        with open(f\"blastresults/{protein}-{proteome}.blast\", 'r') as f:\n",
    "            res = float(f.readlines()[5].split()[10])\n",
    "\n",
    "        log_data[proteome][protein] = max(0, -np.log10(res if res != 0 else 1e-300))\n",
    "        if proteome not in data.keys():\n",
    "            data[proteome] = {}\n",
    "        data[proteome][protein] = res\n",
    "\n",
    "df_log = pd.DataFrame.from_records(log_data)\n",
    "df = pd.DataFrame.from_records(data)"
   ]
  },
  {
   "cell_type": "code",
   "execution_count": 12,
   "metadata": {},
   "outputs": [
    {
     "data": {
      "text/html": [
       "<div>\n",
       "<style scoped>\n",
       "    .dataframe tbody tr th:only-of-type {\n",
       "        vertical-align: middle;\n",
       "    }\n",
       "\n",
       "    .dataframe tbody tr th {\n",
       "        vertical-align: top;\n",
       "    }\n",
       "\n",
       "    .dataframe thead th {\n",
       "        text-align: right;\n",
       "    }\n",
       "</style>\n",
       "<table border=\"1\" class=\"dataframe\">\n",
       "  <thead>\n",
       "    <tr style=\"text-align: right;\">\n",
       "      <th></th>\n",
       "      <th>c.elegans</th>\n",
       "      <th>ciliate</th>\n",
       "      <th>drosophila</th>\n",
       "      <th>e.coli</th>\n",
       "      <th>human</th>\n",
       "      <th>methanocaldococcus</th>\n",
       "      <th>mouse</th>\n",
       "      <th>thermococcus</th>\n",
       "      <th>tuberculosis</th>\n",
       "      <th>yeast</th>\n",
       "      <th>zebrafish</th>\n",
       "    </tr>\n",
       "  </thead>\n",
       "  <tbody>\n",
       "    <tr>\n",
       "      <th>H2A</th>\n",
       "      <td>8.800000e-48</td>\n",
       "      <td>1.220000e-46</td>\n",
       "      <td>1.220000e-44</td>\n",
       "      <td>1.320000e-14</td>\n",
       "      <td>0.000000e+00</td>\n",
       "      <td>0.260000</td>\n",
       "      <td>0.000000e+00</td>\n",
       "      <td>0.000007</td>\n",
       "      <td>0.099</td>\n",
       "      <td>8.670000e-46</td>\n",
       "      <td>0.000000e+00</td>\n",
       "    </tr>\n",
       "    <tr>\n",
       "      <th>H2B</th>\n",
       "      <td>1.450000e-65</td>\n",
       "      <td>3.540000e-50</td>\n",
       "      <td>3.510000e-60</td>\n",
       "      <td>1.700000e+00</td>\n",
       "      <td>2.000000e-88</td>\n",
       "      <td>1.900000</td>\n",
       "      <td>3.540000e-86</td>\n",
       "      <td>1.200000</td>\n",
       "      <td>2.400</td>\n",
       "      <td>1.820000e-59</td>\n",
       "      <td>2.930000e-81</td>\n",
       "    </tr>\n",
       "    <tr>\n",
       "      <th>H3</th>\n",
       "      <td>4.460000e-94</td>\n",
       "      <td>8.410000e-86</td>\n",
       "      <td>9.390000e-96</td>\n",
       "      <td>9.000000e-01</td>\n",
       "      <td>2.190000e-96</td>\n",
       "      <td>0.034000</td>\n",
       "      <td>1.540000e-96</td>\n",
       "      <td>0.057000</td>\n",
       "      <td>4.600</td>\n",
       "      <td>3.310000e-87</td>\n",
       "      <td>1.770000e-95</td>\n",
       "    </tr>\n",
       "    <tr>\n",
       "      <th>H4</th>\n",
       "      <td>6.150000e-68</td>\n",
       "      <td>1.960000e-45</td>\n",
       "      <td>8.020000e-68</td>\n",
       "      <td>1.300000e+00</td>\n",
       "      <td>1.090000e-67</td>\n",
       "      <td>0.000082</td>\n",
       "      <td>7.600000e-68</td>\n",
       "      <td>0.000033</td>\n",
       "      <td>0.069</td>\n",
       "      <td>1.080000e-52</td>\n",
       "      <td>1.130000e-68</td>\n",
       "    </tr>\n",
       "    <tr>\n",
       "      <th>CREBBP</th>\n",
       "      <td>0.000000e+00</td>\n",
       "      <td>4.380000e-16</td>\n",
       "      <td>0.000000e+00</td>\n",
       "      <td>4.700000e+00</td>\n",
       "      <td>0.000000e+00</td>\n",
       "      <td>0.044000</td>\n",
       "      <td>0.000000e+00</td>\n",
       "      <td>0.031000</td>\n",
       "      <td>0.350</td>\n",
       "      <td>1.370000e-13</td>\n",
       "      <td>0.000000e+00</td>\n",
       "    </tr>\n",
       "  </tbody>\n",
       "</table>\n",
       "</div>"
      ],
      "text/plain": [
       "           c.elegans       ciliate    drosophila        e.coli         human  \\\n",
       "H2A     8.800000e-48  1.220000e-46  1.220000e-44  1.320000e-14  0.000000e+00   \n",
       "H2B     1.450000e-65  3.540000e-50  3.510000e-60  1.700000e+00  2.000000e-88   \n",
       "H3      4.460000e-94  8.410000e-86  9.390000e-96  9.000000e-01  2.190000e-96   \n",
       "H4      6.150000e-68  1.960000e-45  8.020000e-68  1.300000e+00  1.090000e-67   \n",
       "CREBBP  0.000000e+00  4.380000e-16  0.000000e+00  4.700000e+00  0.000000e+00   \n",
       "\n",
       "        methanocaldococcus         mouse  thermococcus  tuberculosis  \\\n",
       "H2A               0.260000  0.000000e+00      0.000007         0.099   \n",
       "H2B               1.900000  3.540000e-86      1.200000         2.400   \n",
       "H3                0.034000  1.540000e-96      0.057000         4.600   \n",
       "H4                0.000082  7.600000e-68      0.000033         0.069   \n",
       "CREBBP            0.044000  0.000000e+00      0.031000         0.350   \n",
       "\n",
       "               yeast     zebrafish  \n",
       "H2A     8.670000e-46  0.000000e+00  \n",
       "H2B     1.820000e-59  2.930000e-81  \n",
       "H3      3.310000e-87  1.770000e-95  \n",
       "H4      1.080000e-52  1.130000e-68  \n",
       "CREBBP  1.370000e-13  0.000000e+00  "
      ]
     },
     "execution_count": 12,
     "metadata": {},
     "output_type": "execute_result"
    }
   ],
   "source": [
    "df"
   ]
  },
  {
   "cell_type": "code",
   "execution_count": 13,
   "metadata": {},
   "outputs": [
    {
     "data": {
      "text/html": [
       "<div>\n",
       "<style scoped>\n",
       "    .dataframe tbody tr th:only-of-type {\n",
       "        vertical-align: middle;\n",
       "    }\n",
       "\n",
       "    .dataframe tbody tr th {\n",
       "        vertical-align: top;\n",
       "    }\n",
       "\n",
       "    .dataframe thead th {\n",
       "        text-align: right;\n",
       "    }\n",
       "</style>\n",
       "<table border=\"1\" class=\"dataframe\">\n",
       "  <thead>\n",
       "    <tr style=\"text-align: right;\">\n",
       "      <th></th>\n",
       "      <th>c.elegans</th>\n",
       "      <th>ciliate</th>\n",
       "      <th>drosophila</th>\n",
       "      <th>e.coli</th>\n",
       "      <th>human</th>\n",
       "      <th>methanocaldococcus</th>\n",
       "      <th>mouse</th>\n",
       "      <th>thermococcus</th>\n",
       "      <th>tuberculosis</th>\n",
       "      <th>yeast</th>\n",
       "      <th>zebrafish</th>\n",
       "    </tr>\n",
       "  </thead>\n",
       "  <tbody>\n",
       "    <tr>\n",
       "      <th>H2A</th>\n",
       "      <td>47.055517</td>\n",
       "      <td>45.913640</td>\n",
       "      <td>43.913640</td>\n",
       "      <td>13.879426</td>\n",
       "      <td>300.000000</td>\n",
       "      <td>0.585027</td>\n",
       "      <td>300.000000</td>\n",
       "      <td>5.158015</td>\n",
       "      <td>1.004365</td>\n",
       "      <td>45.061981</td>\n",
       "      <td>300.000000</td>\n",
       "    </tr>\n",
       "    <tr>\n",
       "      <th>H2B</th>\n",
       "      <td>64.838632</td>\n",
       "      <td>49.450997</td>\n",
       "      <td>59.454693</td>\n",
       "      <td>0.000000</td>\n",
       "      <td>87.698970</td>\n",
       "      <td>0.000000</td>\n",
       "      <td>85.450997</td>\n",
       "      <td>0.000000</td>\n",
       "      <td>0.000000</td>\n",
       "      <td>58.739929</td>\n",
       "      <td>80.533132</td>\n",
       "    </tr>\n",
       "    <tr>\n",
       "      <th>H3</th>\n",
       "      <td>93.350665</td>\n",
       "      <td>85.075204</td>\n",
       "      <td>95.027334</td>\n",
       "      <td>0.045757</td>\n",
       "      <td>95.659556</td>\n",
       "      <td>1.468521</td>\n",
       "      <td>95.812479</td>\n",
       "      <td>1.244125</td>\n",
       "      <td>0.000000</td>\n",
       "      <td>86.480172</td>\n",
       "      <td>94.752027</td>\n",
       "    </tr>\n",
       "    <tr>\n",
       "      <th>H4</th>\n",
       "      <td>67.211125</td>\n",
       "      <td>44.707744</td>\n",
       "      <td>67.095826</td>\n",
       "      <td>0.000000</td>\n",
       "      <td>66.962574</td>\n",
       "      <td>4.085128</td>\n",
       "      <td>67.119186</td>\n",
       "      <td>4.480172</td>\n",
       "      <td>1.161151</td>\n",
       "      <td>51.966576</td>\n",
       "      <td>67.946922</td>\n",
       "    </tr>\n",
       "    <tr>\n",
       "      <th>CREBBP</th>\n",
       "      <td>300.000000</td>\n",
       "      <td>15.358526</td>\n",
       "      <td>300.000000</td>\n",
       "      <td>0.000000</td>\n",
       "      <td>300.000000</td>\n",
       "      <td>1.356547</td>\n",
       "      <td>300.000000</td>\n",
       "      <td>1.508638</td>\n",
       "      <td>0.455932</td>\n",
       "      <td>12.863279</td>\n",
       "      <td>300.000000</td>\n",
       "    </tr>\n",
       "  </tbody>\n",
       "</table>\n",
       "</div>"
      ],
      "text/plain": [
       "         c.elegans    ciliate  drosophila     e.coli       human  \\\n",
       "H2A      47.055517  45.913640   43.913640  13.879426  300.000000   \n",
       "H2B      64.838632  49.450997   59.454693   0.000000   87.698970   \n",
       "H3       93.350665  85.075204   95.027334   0.045757   95.659556   \n",
       "H4       67.211125  44.707744   67.095826   0.000000   66.962574   \n",
       "CREBBP  300.000000  15.358526  300.000000   0.000000  300.000000   \n",
       "\n",
       "        methanocaldococcus       mouse  thermococcus  tuberculosis      yeast  \\\n",
       "H2A               0.585027  300.000000      5.158015      1.004365  45.061981   \n",
       "H2B               0.000000   85.450997      0.000000      0.000000  58.739929   \n",
       "H3                1.468521   95.812479      1.244125      0.000000  86.480172   \n",
       "H4                4.085128   67.119186      4.480172      1.161151  51.966576   \n",
       "CREBBP            1.356547  300.000000      1.508638      0.455932  12.863279   \n",
       "\n",
       "         zebrafish  \n",
       "H2A     300.000000  \n",
       "H2B      80.533132  \n",
       "H3       94.752027  \n",
       "H4       67.946922  \n",
       "CREBBP  300.000000  "
      ]
     },
     "execution_count": 13,
     "metadata": {},
     "output_type": "execute_result"
    }
   ],
   "source": [
    "df_log"
   ]
  },
  {
   "cell_type": "code",
   "execution_count": 14,
   "metadata": {},
   "outputs": [
    {
     "name": "stdout",
     "output_type": "stream",
     "text": [
      "Collecting seaborn\n",
      "  Downloading seaborn-0.12.2-py3-none-any.whl (293 kB)\n",
      "Requirement already satisfied: pandas>=0.25 in c:\\users\\fessk\\appdata\\local\\programs\\python\\python39\\lib\\site-packages (from seaborn) (2.0.2)\n",
      "Requirement already satisfied: numpy!=1.24.0,>=1.17 in c:\\users\\fessk\\appdata\\local\\programs\\python\\python39\\lib\\site-packages (from seaborn) (1.24.3)\n",
      "Collecting matplotlib!=3.6.1,>=3.1\n",
      "  Downloading matplotlib-3.7.1-cp39-cp39-win_amd64.whl (7.6 MB)\n",
      "Collecting pyparsing>=2.3.1\n",
      "  Downloading pyparsing-3.0.9-py3-none-any.whl (98 kB)\n",
      "Collecting fonttools>=4.22.0\n",
      "  Downloading fonttools-4.39.4-py3-none-any.whl (1.0 MB)\n",
      "Collecting cycler>=0.10\n",
      "  Downloading cycler-0.11.0-py3-none-any.whl (6.4 kB)\n",
      "Collecting contourpy>=1.0.1\n",
      "  Downloading contourpy-1.0.7-cp39-cp39-win_amd64.whl (160 kB)\n",
      "Collecting kiwisolver>=1.0.1\n",
      "  Downloading kiwisolver-1.4.4-cp39-cp39-win_amd64.whl (55 kB)\n",
      "Collecting importlib-resources>=3.2.0\n",
      "  Downloading importlib_resources-5.12.0-py3-none-any.whl (36 kB)\n",
      "Requirement already satisfied: python-dateutil>=2.7 in c:\\users\\fessk\\appdata\\roaming\\python\\python39\\site-packages (from matplotlib!=3.6.1,>=3.1->seaborn) (2.8.2)\n",
      "Collecting pillow>=6.2.0\n",
      "  Downloading Pillow-9.5.0-cp39-cp39-win_amd64.whl (2.5 MB)\n",
      "Requirement already satisfied: packaging>=20.0 in c:\\users\\fessk\\appdata\\roaming\\python\\python39\\site-packages (from matplotlib!=3.6.1,>=3.1->seaborn) (23.1)\n",
      "Requirement already satisfied: zipp>=3.1.0 in c:\\users\\fessk\\appdata\\roaming\\python\\python39\\site-packages (from importlib-resources>=3.2.0->matplotlib!=3.6.1,>=3.1->seaborn) (3.15.0)\n",
      "Requirement already satisfied: pytz>=2020.1 in c:\\users\\fessk\\appdata\\local\\programs\\python\\python39\\lib\\site-packages (from pandas>=0.25->seaborn) (2023.3)\n",
      "Requirement already satisfied: tzdata>=2022.1 in c:\\users\\fessk\\appdata\\local\\programs\\python\\python39\\lib\\site-packages (from pandas>=0.25->seaborn) (2023.3)\n",
      "Requirement already satisfied: six>=1.5 in c:\\users\\fessk\\appdata\\roaming\\python\\python39\\site-packages (from python-dateutil>=2.7->matplotlib!=3.6.1,>=3.1->seaborn) (1.16.0)\n",
      "Installing collected packages: pyparsing, pillow, kiwisolver, importlib-resources, fonttools, cycler, contourpy, matplotlib, seaborn\n",
      "Successfully installed contourpy-1.0.7 cycler-0.11.0 fonttools-4.39.4 importlib-resources-5.12.0 kiwisolver-1.4.4 matplotlib-3.7.1 pillow-9.5.0 pyparsing-3.0.9 seaborn-0.12.2\n",
      "Note: you may need to restart the kernel to use updated packages.\n"
     ]
    },
    {
     "name": "stderr",
     "output_type": "stream",
     "text": [
      "  WARNING: The scripts fonttools.exe, pyftmerge.exe, pyftsubset.exe and ttx.exe are installed in 'c:\\Users\\fessk\\AppData\\Local\\Programs\\Python\\Python39\\Scripts' which is not on PATH.\n",
      "  Consider adding this directory to PATH or, if you prefer to suppress this warning, use --no-warn-script-location.\n",
      "WARNING: You are using pip version 21.2.3; however, version 23.1.2 is available.\n",
      "You should consider upgrading via the 'c:\\Users\\fessk\\AppData\\Local\\Programs\\Python\\Python39\\python.exe -m pip install --upgrade pip' command.\n"
     ]
    }
   ],
   "source": [
    "pip install seaborn"
   ]
  },
  {
   "cell_type": "code",
   "execution_count": 15,
   "metadata": {},
   "outputs": [
    {
     "name": "stdout",
     "output_type": "stream",
     "text": [
      "Note: you may need to restart the kernel to use updated packages.\n",
      "Requirement already satisfied: matplotlib in c:\\users\\fessk\\appdata\\local\\programs\\python\\python39\\lib\\site-packages (3.7.1)\n",
      "Requirement already satisfied: importlib-resources>=3.2.0 in c:\\users\\fessk\\appdata\\local\\programs\\python\\python39\\lib\\site-packages (from matplotlib) (5.12.0)\n",
      "Requirement already satisfied: python-dateutil>=2.7 in c:\\users\\fessk\\appdata\\roaming\\python\\python39\\site-packages (from matplotlib) (2.8.2)\n",
      "Requirement already satisfied: pillow>=6.2.0 in c:\\users\\fessk\\appdata\\local\\programs\\python\\python39\\lib\\site-packages (from matplotlib) (9.5.0)\n",
      "Requirement already satisfied: cycler>=0.10 in c:\\users\\fessk\\appdata\\local\\programs\\python\\python39\\lib\\site-packages (from matplotlib) (0.11.0)\n",
      "Requirement already satisfied: numpy>=1.20 in c:\\users\\fessk\\appdata\\local\\programs\\python\\python39\\lib\\site-packages (from matplotlib) (1.24.3)\n",
      "Requirement already satisfied: packaging>=20.0 in c:\\users\\fessk\\appdata\\roaming\\python\\python39\\site-packages (from matplotlib) (23.1)\n",
      "Requirement already satisfied: contourpy>=1.0.1 in c:\\users\\fessk\\appdata\\local\\programs\\python\\python39\\lib\\site-packages (from matplotlib) (1.0.7)\n",
      "Requirement already satisfied: kiwisolver>=1.0.1 in c:\\users\\fessk\\appdata\\local\\programs\\python\\python39\\lib\\site-packages (from matplotlib) (1.4.4)\n",
      "Requirement already satisfied: pyparsing>=2.3.1 in c:\\users\\fessk\\appdata\\local\\programs\\python\\python39\\lib\\site-packages (from matplotlib) (3.0.9)\n",
      "Requirement already satisfied: fonttools>=4.22.0 in c:\\users\\fessk\\appdata\\local\\programs\\python\\python39\\lib\\site-packages (from matplotlib) (4.39.4)\n",
      "Requirement already satisfied: zipp>=3.1.0 in c:\\users\\fessk\\appdata\\roaming\\python\\python39\\site-packages (from importlib-resources>=3.2.0->matplotlib) (3.15.0)\n",
      "Requirement already satisfied: six>=1.5 in c:\\users\\fessk\\appdata\\roaming\\python\\python39\\site-packages (from python-dateutil>=2.7->matplotlib) (1.16.0)\n"
     ]
    },
    {
     "name": "stderr",
     "output_type": "stream",
     "text": [
      "WARNING: You are using pip version 21.2.3; however, version 23.1.2 is available.\n",
      "You should consider upgrading via the 'c:\\Users\\fessk\\AppData\\Local\\Programs\\Python\\Python39\\python.exe -m pip install --upgrade pip' command.\n"
     ]
    }
   ],
   "source": [
    "pip install matplotlib"
   ]
  },
  {
   "cell_type": "code",
   "execution_count": 16,
   "metadata": {},
   "outputs": [],
   "source": [
    "import seaborn as sns\n",
    "import matplotlib.pyplot as plt"
   ]
  },
  {
   "cell_type": "code",
   "execution_count": 17,
   "metadata": {},
   "outputs": [
    {
     "data": {
      "image/png": "[encoded data removed]",
      "text/plain": [
       "<Figure size 1000x800 with 2 Axes>"
      ]
     },
     "metadata": {},
     "output_type": "display_data"
    }
   ],
   "source": [
    "df_log = df_log.reindex([\"human\", \"mouse\", \"zebrafish\", \"drosophila\", \"c.elegans\", \"ciliate\", \"yeast\", \"methanocaldococcus\", \"thermococcus\", \"e.coli\", \"tuberculosis\"], axis=1)\n",
    "plt.figure(figsize=(10, 8))\n",
    "sns.heatmap(df_log, cmap='coolwarm')\n",
    "\n",
    "for i in range(df_log.shape[0]):\n",
    "    for j in range(df_log.shape[1]):\n",
    "        plt.text(j + 0.5, i + 0.5, f'{df_log.iloc[i, j]:.2f}', ha='center', va='center')\n",
    "\n",
    "plt.xlabel('Протеомы')\n",
    "plt.ylabel('Белки')\n",
    "\n",
    "plt.title('Тепловая карта')\n",
    "\n",
    "plt.show()"
   ]
  }
 ],
 "metadata": {
  "kernelspec": {
   "display_name": "Python 3",
   "language": "python",
   "name": "python3"
  },
  "language_info": {
   "codemirror_mode": {
    "name": "ipython",
    "version": 3
   },
   "file_extension": ".py",
   "mimetype": "text/x-python",
   "name": "python",
   "nbconvert_exporter": "python",
   "pygments_lexer": "ipython3",
   "version": "3.9.7"
  },
  "orig_nbformat": 4
 },
 "nbformat": 4,
 "nbformat_minor": 2
}
